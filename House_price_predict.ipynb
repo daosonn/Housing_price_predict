{
 "cells": [
  {
   "cell_type": "code",
   "execution_count": 290,
   "id": "26990c57-d6b2-4935-bdbe-a2b760bfb71b",
   "metadata": {},
   "outputs": [],
   "source": [
    "import numpy as np\n",
    "import pandas as pd\n",
    "from scipy import stats"
   ]
  },
  {
   "cell_type": "code",
   "execution_count": 235,
   "id": "a5e0cea6-0fe6-4809-84d0-1315dcc1d51c",
   "metadata": {},
   "outputs": [
    {
     "data": {
      "text/html": [
       "<div>\n",
       "<style scoped>\n",
       "    .dataframe tbody tr th:only-of-type {\n",
       "        vertical-align: middle;\n",
       "    }\n",
       "\n",
       "    .dataframe tbody tr th {\n",
       "        vertical-align: top;\n",
       "    }\n",
       "\n",
       "    .dataframe thead th {\n",
       "        text-align: right;\n",
       "    }\n",
       "</style>\n",
       "<table border=\"1\" class=\"dataframe\">\n",
       "  <thead>\n",
       "    <tr style=\"text-align: right;\">\n",
       "      <th></th>\n",
       "      <th>No</th>\n",
       "      <th>Square</th>\n",
       "      <th>Bedrooms</th>\n",
       "      <th>Age</th>\n",
       "      <th>Floors</th>\n",
       "      <th>Price</th>\n",
       "    </tr>\n",
       "  </thead>\n",
       "  <tbody>\n",
       "    <tr>\n",
       "      <th>0</th>\n",
       "      <td>1</td>\n",
       "      <td>40</td>\n",
       "      <td>2</td>\n",
       "      <td>12</td>\n",
       "      <td>3</td>\n",
       "      <td>1480</td>\n",
       "    </tr>\n",
       "    <tr>\n",
       "      <th>1</th>\n",
       "      <td>2</td>\n",
       "      <td>42</td>\n",
       "      <td>2</td>\n",
       "      <td>5</td>\n",
       "      <td>3</td>\n",
       "      <td>1560</td>\n",
       "    </tr>\n",
       "    <tr>\n",
       "      <th>2</th>\n",
       "      <td>3</td>\n",
       "      <td>45</td>\n",
       "      <td>3</td>\n",
       "      <td>6</td>\n",
       "      <td>3</td>\n",
       "      <td>1600</td>\n",
       "    </tr>\n",
       "    <tr>\n",
       "      <th>3</th>\n",
       "      <td>4</td>\n",
       "      <td>48</td>\n",
       "      <td>4</td>\n",
       "      <td>8</td>\n",
       "      <td>4</td>\n",
       "      <td>1640</td>\n",
       "    </tr>\n",
       "    <tr>\n",
       "      <th>4</th>\n",
       "      <td>5</td>\n",
       "      <td>50</td>\n",
       "      <td>6</td>\n",
       "      <td>11</td>\n",
       "      <td>4</td>\n",
       "      <td>1718</td>\n",
       "    </tr>\n",
       "    <tr>\n",
       "      <th>5</th>\n",
       "      <td>6</td>\n",
       "      <td>53</td>\n",
       "      <td>3</td>\n",
       "      <td>9</td>\n",
       "      <td>3</td>\n",
       "      <td>1830</td>\n",
       "    </tr>\n",
       "    <tr>\n",
       "      <th>6</th>\n",
       "      <td>7</td>\n",
       "      <td>55</td>\n",
       "      <td>4</td>\n",
       "      <td>7</td>\n",
       "      <td>4</td>\n",
       "      <td>1700</td>\n",
       "    </tr>\n",
       "    <tr>\n",
       "      <th>7</th>\n",
       "      <td>8</td>\n",
       "      <td>60</td>\n",
       "      <td>4</td>\n",
       "      <td>2</td>\n",
       "      <td>3</td>\n",
       "      <td>1970</td>\n",
       "    </tr>\n",
       "    <tr>\n",
       "      <th>8</th>\n",
       "      <td>9</td>\n",
       "      <td>63</td>\n",
       "      <td>3</td>\n",
       "      <td>3</td>\n",
       "      <td>3</td>\n",
       "      <td>1870</td>\n",
       "    </tr>\n",
       "    <tr>\n",
       "      <th>9</th>\n",
       "      <td>10</td>\n",
       "      <td>65</td>\n",
       "      <td>3</td>\n",
       "      <td>4</td>\n",
       "      <td>2</td>\n",
       "      <td>1987</td>\n",
       "    </tr>\n",
       "    <tr>\n",
       "      <th>10</th>\n",
       "      <td>11</td>\n",
       "      <td>67</td>\n",
       "      <td>4</td>\n",
       "      <td>6</td>\n",
       "      <td>4</td>\n",
       "      <td>1930</td>\n",
       "    </tr>\n",
       "    <tr>\n",
       "      <th>11</th>\n",
       "      <td>12</td>\n",
       "      <td>69</td>\n",
       "      <td>6</td>\n",
       "      <td>7</td>\n",
       "      <td>5</td>\n",
       "      <td>1967</td>\n",
       "    </tr>\n",
       "    <tr>\n",
       "      <th>12</th>\n",
       "      <td>13</td>\n",
       "      <td>72</td>\n",
       "      <td>6</td>\n",
       "      <td>9</td>\n",
       "      <td>6</td>\n",
       "      <td>2150</td>\n",
       "    </tr>\n",
       "    <tr>\n",
       "      <th>13</th>\n",
       "      <td>14</td>\n",
       "      <td>74</td>\n",
       "      <td>3</td>\n",
       "      <td>3</td>\n",
       "      <td>2</td>\n",
       "      <td>2120</td>\n",
       "    </tr>\n",
       "    <tr>\n",
       "      <th>14</th>\n",
       "      <td>15</td>\n",
       "      <td>75</td>\n",
       "      <td>3</td>\n",
       "      <td>4</td>\n",
       "      <td>3</td>\n",
       "      <td>2050</td>\n",
       "    </tr>\n",
       "    <tr>\n",
       "      <th>15</th>\n",
       "      <td>16</td>\n",
       "      <td>78</td>\n",
       "      <td>3</td>\n",
       "      <td>2</td>\n",
       "      <td>4</td>\n",
       "      <td>2080</td>\n",
       "    </tr>\n",
       "    <tr>\n",
       "      <th>16</th>\n",
       "      <td>17</td>\n",
       "      <td>82</td>\n",
       "      <td>5</td>\n",
       "      <td>5</td>\n",
       "      <td>4</td>\n",
       "      <td>2140</td>\n",
       "    </tr>\n",
       "    <tr>\n",
       "      <th>17</th>\n",
       "      <td>18</td>\n",
       "      <td>85</td>\n",
       "      <td>5</td>\n",
       "      <td>10</td>\n",
       "      <td>4</td>\n",
       "      <td>2100</td>\n",
       "    </tr>\n",
       "    <tr>\n",
       "      <th>18</th>\n",
       "      <td>19</td>\n",
       "      <td>90</td>\n",
       "      <td>6</td>\n",
       "      <td>2</td>\n",
       "      <td>6</td>\n",
       "      <td>2400</td>\n",
       "    </tr>\n",
       "    <tr>\n",
       "      <th>19</th>\n",
       "      <td>20</td>\n",
       "      <td>92</td>\n",
       "      <td>5</td>\n",
       "      <td>7</td>\n",
       "      <td>5</td>\n",
       "      <td>2370</td>\n",
       "    </tr>\n",
       "    <tr>\n",
       "      <th>20</th>\n",
       "      <td>21</td>\n",
       "      <td>94</td>\n",
       "      <td>6</td>\n",
       "      <td>15</td>\n",
       "      <td>7</td>\n",
       "      <td>2205</td>\n",
       "    </tr>\n",
       "    <tr>\n",
       "      <th>21</th>\n",
       "      <td>22</td>\n",
       "      <td>97</td>\n",
       "      <td>6</td>\n",
       "      <td>1</td>\n",
       "      <td>4</td>\n",
       "      <td>2650</td>\n",
       "    </tr>\n",
       "    <tr>\n",
       "      <th>22</th>\n",
       "      <td>23</td>\n",
       "      <td>101</td>\n",
       "      <td>5</td>\n",
       "      <td>12</td>\n",
       "      <td>4</td>\n",
       "      <td>2800</td>\n",
       "    </tr>\n",
       "    <tr>\n",
       "      <th>23</th>\n",
       "      <td>24</td>\n",
       "      <td>109</td>\n",
       "      <td>8</td>\n",
       "      <td>10</td>\n",
       "      <td>6</td>\n",
       "      <td>3100</td>\n",
       "    </tr>\n",
       "  </tbody>\n",
       "</table>\n",
       "</div>"
      ],
      "text/plain": [
       "    No  Square  Bedrooms  Age  Floors  Price\n",
       "0    1      40         2   12       3   1480\n",
       "1    2      42         2    5       3   1560\n",
       "2    3      45         3    6       3   1600\n",
       "3    4      48         4    8       4   1640\n",
       "4    5      50         6   11       4   1718\n",
       "5    6      53         3    9       3   1830\n",
       "6    7      55         4    7       4   1700\n",
       "7    8      60         4    2       3   1970\n",
       "8    9      63         3    3       3   1870\n",
       "9   10      65         3    4       2   1987\n",
       "10  11      67         4    6       4   1930\n",
       "11  12      69         6    7       5   1967\n",
       "12  13      72         6    9       6   2150\n",
       "13  14      74         3    3       2   2120\n",
       "14  15      75         3    4       3   2050\n",
       "15  16      78         3    2       4   2080\n",
       "16  17      82         5    5       4   2140\n",
       "17  18      85         5   10       4   2100\n",
       "18  19      90         6    2       6   2400\n",
       "19  20      92         5    7       5   2370\n",
       "20  21      94         6   15       7   2205\n",
       "21  22      97         6    1       4   2650\n",
       "22  23     101         5   12       4   2800\n",
       "23  24     109         8   10       6   3100"
      ]
     },
     "execution_count": 235,
     "metadata": {},
     "output_type": "execute_result"
    }
   ],
   "source": [
    "data = pd.read_csv(\"C:\\\\Users\\\\Admin\\\\OneDrive - Hanoi University of Science and Technology\\\\ARS\\\\housing_data.csv\")\n",
    "data"
   ]
  },
  {
   "cell_type": "code",
   "execution_count": 236,
   "id": "7c42c712-0740-40b4-bd4b-0abd8c2b3943",
   "metadata": {},
   "outputs": [
    {
     "data": {
      "text/plain": [
       "array([[   1,   40,    2,   12,    3, 1480],\n",
       "       [   2,   42,    2,    5,    3, 1560],\n",
       "       [   3,   45,    3,    6,    3, 1600],\n",
       "       [   4,   48,    4,    8,    4, 1640],\n",
       "       [   5,   50,    6,   11,    4, 1718],\n",
       "       [   6,   53,    3,    9,    3, 1830],\n",
       "       [   7,   55,    4,    7,    4, 1700],\n",
       "       [   8,   60,    4,    2,    3, 1970],\n",
       "       [   9,   63,    3,    3,    3, 1870],\n",
       "       [  10,   65,    3,    4,    2, 1987],\n",
       "       [  11,   67,    4,    6,    4, 1930],\n",
       "       [  12,   69,    6,    7,    5, 1967],\n",
       "       [  13,   72,    6,    9,    6, 2150],\n",
       "       [  14,   74,    3,    3,    2, 2120],\n",
       "       [  15,   75,    3,    4,    3, 2050],\n",
       "       [  16,   78,    3,    2,    4, 2080],\n",
       "       [  17,   82,    5,    5,    4, 2140],\n",
       "       [  18,   85,    5,   10,    4, 2100],\n",
       "       [  19,   90,    6,    2,    6, 2400],\n",
       "       [  20,   92,    5,    7,    5, 2370],\n",
       "       [  21,   94,    6,   15,    7, 2205],\n",
       "       [  22,   97,    6,    1,    4, 2650],\n",
       "       [  23,  101,    5,   12,    4, 2800],\n",
       "       [  24,  109,    8,   10,    6, 3100]], dtype=int64)"
      ]
     },
     "execution_count": 236,
     "metadata": {},
     "output_type": "execute_result"
    }
   ],
   "source": [
    "arr = np.array(data)\n",
    "arr"
   ]
  },
  {
   "cell_type": "code",
   "execution_count": 237,
   "id": "31ffcd30-f41a-48b8-861e-9905be7d7d52",
   "metadata": {},
   "outputs": [
    {
     "data": {
      "text/plain": [
       "array([[ 40,   2,  12,   3],\n",
       "       [ 42,   2,   5,   3],\n",
       "       [ 45,   3,   6,   3],\n",
       "       [ 48,   4,   8,   4],\n",
       "       [ 50,   6,  11,   4],\n",
       "       [ 53,   3,   9,   3],\n",
       "       [ 55,   4,   7,   4],\n",
       "       [ 60,   4,   2,   3],\n",
       "       [ 63,   3,   3,   3],\n",
       "       [ 65,   3,   4,   2],\n",
       "       [ 67,   4,   6,   4],\n",
       "       [ 69,   6,   7,   5],\n",
       "       [ 72,   6,   9,   6],\n",
       "       [ 74,   3,   3,   2],\n",
       "       [ 75,   3,   4,   3],\n",
       "       [ 78,   3,   2,   4],\n",
       "       [ 82,   5,   5,   4],\n",
       "       [ 85,   5,  10,   4],\n",
       "       [ 90,   6,   2,   6],\n",
       "       [ 92,   5,   7,   5],\n",
       "       [ 94,   6,  15,   7],\n",
       "       [ 97,   6,   1,   4],\n",
       "       [101,   5,  12,   4],\n",
       "       [109,   8,  10,   6]], dtype=int64)"
      ]
     },
     "execution_count": 237,
     "metadata": {},
     "output_type": "execute_result"
    }
   ],
   "source": [
    "X = arr[:,1:5]\n",
    "X"
   ]
  },
  {
   "cell_type": "code",
   "execution_count": 238,
   "id": "77f5fb5c-e310-4821-b952-f64c3c890322",
   "metadata": {},
   "outputs": [
    {
     "data": {
      "text/plain": [
       "array([[1480],\n",
       "       [1560],\n",
       "       [1600],\n",
       "       [1640],\n",
       "       [1718],\n",
       "       [1830],\n",
       "       [1700],\n",
       "       [1970],\n",
       "       [1870],\n",
       "       [1987],\n",
       "       [1930],\n",
       "       [1967],\n",
       "       [2150],\n",
       "       [2120],\n",
       "       [2050],\n",
       "       [2080],\n",
       "       [2140],\n",
       "       [2100],\n",
       "       [2400],\n",
       "       [2370],\n",
       "       [2205],\n",
       "       [2650],\n",
       "       [2800],\n",
       "       [3100]], dtype=int64)"
      ]
     },
     "execution_count": 238,
     "metadata": {},
     "output_type": "execute_result"
    }
   ],
   "source": [
    "Y = arr[:,5:6]\n",
    "Y"
   ]
  },
  {
   "cell_type": "code",
   "execution_count": 239,
   "id": "e46526c7-5083-414b-9bdb-c25853f23fa8",
   "metadata": {},
   "outputs": [
    {
     "data": {
      "text/plain": [
       "array([[-1.60408224, -1.56003457,  1.44857194, -0.79471941],\n",
       "       [-1.50087052, -1.56003457, -0.45267873, -0.79471941],\n",
       "       [-1.34605293, -0.90317791, -0.18107149, -0.79471941],\n",
       "       [-1.19123534, -0.24632125,  0.36214298,  0.        ],\n",
       "       [-1.08802361,  1.06739208,  1.1769647 ,  0.        ],\n",
       "       [-0.93320602, -0.90317791,  0.63375022, -0.79471941],\n",
       "       [-0.8299943 , -0.24632125,  0.09053575,  0.        ],\n",
       "       [-0.57196498, -0.24632125, -1.26750044, -0.79471941],\n",
       "       [-0.41714739, -0.90317791, -0.99589321, -0.79471941],\n",
       "       [-0.31393567, -0.90317791, -0.72428597, -1.58943883],\n",
       "       [-0.21072394, -0.24632125, -0.18107149,  0.        ],\n",
       "       [-0.10751221,  1.06739208,  0.09053575,  0.79471941],\n",
       "       [ 0.04730537,  1.06739208,  0.63375022,  1.58943883],\n",
       "       [ 0.1505171 , -0.90317791, -0.99589321, -1.58943883],\n",
       "       [ 0.20212296, -0.90317791, -0.72428597, -0.79471941],\n",
       "       [ 0.35694055, -0.90317791, -1.26750044,  0.        ],\n",
       "       [ 0.563364  ,  0.41053541, -0.45267873,  0.        ],\n",
       "       [ 0.71818159,  0.41053541,  0.90535746,  0.        ],\n",
       "       [ 0.97621091,  1.06739208, -1.26750044,  1.58943883],\n",
       "       [ 1.07942263,  0.41053541,  0.09053575,  0.79471941],\n",
       "       [ 1.18263436,  1.06739208,  2.26339365,  2.38415824],\n",
       "       [ 1.33745195,  1.06739208, -1.53910768,  0.        ],\n",
       "       [ 1.5438754 ,  0.41053541,  1.44857194,  0.        ],\n",
       "       [ 1.95672231,  2.3811054 ,  0.90535746,  1.58943883]])"
      ]
     },
     "execution_count": 239,
     "metadata": {},
     "output_type": "execute_result"
    }
   ],
   "source": [
    "#chuan hoa\n",
    "X = stats.zscore(X, axis=0)\n",
    "X"
   ]
  },
  {
   "cell_type": "code",
   "execution_count": 240,
   "id": "11dc0080-2d13-4439-a921-1572d1dc77d7",
   "metadata": {},
   "outputs": [
    {
     "data": {
      "text/plain": [
       "2059.0416666666665"
      ]
     },
     "execution_count": 240,
     "metadata": {},
     "output_type": "execute_result"
    }
   ],
   "source": [
    "muy_Y = np.mean(Y, axis =0)\n",
    "muy_Y = np.ndarray.item(muy_Y)\n",
    "muy_Y"
   ]
  },
  {
   "cell_type": "code",
   "execution_count": 241,
   "id": "81ee985d-a835-4bed-8af6-f62c9e90d133",
   "metadata": {},
   "outputs": [
    {
     "data": {
      "text/plain": [
       "386.1748825733693"
      ]
     },
     "execution_count": 241,
     "metadata": {},
     "output_type": "execute_result"
    }
   ],
   "source": [
    "sigma_Y = np.std(Y, axis =0)\n",
    "sigma_Y = np.ndarray.item(sigma_Y)\n",
    "sigma_Y"
   ]
  },
  {
   "cell_type": "code",
   "execution_count": 242,
   "id": "272576b7-e852-4ad5-a25a-7750b1641922",
   "metadata": {},
   "outputs": [
    {
     "data": {
      "text/plain": [
       "array([[-1.49942861],\n",
       "       [-1.29226858],\n",
       "       [-1.18868856],\n",
       "       [-1.08510855],\n",
       "       [-0.88312752],\n",
       "       [-0.59310348],\n",
       "       [-0.92973853],\n",
       "       [-0.23057343],\n",
       "       [-0.48952347],\n",
       "       [-0.18655192],\n",
       "       [-0.33415344],\n",
       "       [-0.23834193],\n",
       "       [ 0.23553664],\n",
       "       [ 0.15785163],\n",
       "       [-0.0234134 ],\n",
       "       [ 0.05427161],\n",
       "       [ 0.20964163],\n",
       "       [ 0.10606162],\n",
       "       [ 0.88291173],\n",
       "       [ 0.80522672],\n",
       "       [ 0.37795916],\n",
       "       [ 1.53028682],\n",
       "       [ 1.91871188],\n",
       "       [ 2.69556199]])"
      ]
     },
     "execution_count": 242,
     "metadata": {},
     "output_type": "execute_result"
    }
   ],
   "source": [
    "Y = stats.zscore(Y, axis =0)\n",
    "Y"
   ]
  },
  {
   "cell_type": "code",
   "execution_count": 243,
   "id": "0568115a-ff2e-43c3-b3f0-40a5f5238f04",
   "metadata": {},
   "outputs": [
    {
     "data": {
      "text/plain": [
       "array([[-1.60408224, -1.56003457,  1.44857194, -0.79471941],\n",
       "       [-1.50087052, -1.56003457, -0.45267873, -0.79471941],\n",
       "       [-1.34605293, -0.90317791, -0.18107149, -0.79471941],\n",
       "       [-1.19123534, -0.24632125,  0.36214298,  0.        ],\n",
       "       [-1.08802361,  1.06739208,  1.1769647 ,  0.        ],\n",
       "       [-0.93320602, -0.90317791,  0.63375022, -0.79471941],\n",
       "       [-0.8299943 , -0.24632125,  0.09053575,  0.        ],\n",
       "       [-0.57196498, -0.24632125, -1.26750044, -0.79471941],\n",
       "       [-0.41714739, -0.90317791, -0.99589321, -0.79471941],\n",
       "       [-0.31393567, -0.90317791, -0.72428597, -1.58943883],\n",
       "       [-0.21072394, -0.24632125, -0.18107149,  0.        ],\n",
       "       [-0.10751221,  1.06739208,  0.09053575,  0.79471941],\n",
       "       [ 0.04730537,  1.06739208,  0.63375022,  1.58943883],\n",
       "       [ 0.1505171 , -0.90317791, -0.99589321, -1.58943883],\n",
       "       [ 0.20212296, -0.90317791, -0.72428597, -0.79471941],\n",
       "       [ 0.35694055, -0.90317791, -1.26750044,  0.        ],\n",
       "       [ 0.563364  ,  0.41053541, -0.45267873,  0.        ],\n",
       "       [ 0.71818159,  0.41053541,  0.90535746,  0.        ],\n",
       "       [ 0.97621091,  1.06739208, -1.26750044,  1.58943883],\n",
       "       [ 1.07942263,  0.41053541,  0.09053575,  0.79471941],\n",
       "       [ 1.18263436,  1.06739208,  2.26339365,  2.38415824],\n",
       "       [ 1.33745195,  1.06739208, -1.53910768,  0.        ],\n",
       "       [ 1.5438754 ,  0.41053541,  1.44857194,  0.        ],\n",
       "       [ 1.95672231,  2.3811054 ,  0.90535746,  1.58943883]])"
      ]
     },
     "execution_count": 243,
     "metadata": {},
     "output_type": "execute_result"
    }
   ],
   "source": [
    "#tach\n",
    "X_train = X[0:20,:]\n",
    "X"
   ]
  },
  {
   "cell_type": "code",
   "execution_count": 244,
   "id": "96b8af2f-2752-472b-8816-6e119b051c8b",
   "metadata": {},
   "outputs": [
    {
     "data": {
      "text/plain": [
       "array([[ 1.18263436,  1.06739208,  2.26339365,  2.38415824],\n",
       "       [ 1.33745195,  1.06739208, -1.53910768,  0.        ],\n",
       "       [ 1.5438754 ,  0.41053541,  1.44857194,  0.        ],\n",
       "       [ 1.95672231,  2.3811054 ,  0.90535746,  1.58943883]])"
      ]
     },
     "execution_count": 244,
     "metadata": {},
     "output_type": "execute_result"
    }
   ],
   "source": [
    "X_test = X[20:24,:]\n",
    "X_test"
   ]
  },
  {
   "cell_type": "code",
   "execution_count": 245,
   "id": "f664263f-3f9d-4825-b9c0-756a834127a5",
   "metadata": {},
   "outputs": [
    {
     "data": {
      "text/plain": [
       "array([[-1.49942861],\n",
       "       [-1.29226858],\n",
       "       [-1.18868856],\n",
       "       [-1.08510855],\n",
       "       [-0.88312752],\n",
       "       [-0.59310348],\n",
       "       [-0.92973853],\n",
       "       [-0.23057343],\n",
       "       [-0.48952347],\n",
       "       [-0.18655192],\n",
       "       [-0.33415344],\n",
       "       [-0.23834193],\n",
       "       [ 0.23553664],\n",
       "       [ 0.15785163],\n",
       "       [-0.0234134 ],\n",
       "       [ 0.05427161],\n",
       "       [ 0.20964163],\n",
       "       [ 0.10606162],\n",
       "       [ 0.88291173],\n",
       "       [ 0.80522672]])"
      ]
     },
     "execution_count": 245,
     "metadata": {},
     "output_type": "execute_result"
    }
   ],
   "source": [
    "Y_train = Y[0:20,:]\n",
    "Y_train"
   ]
  },
  {
   "cell_type": "code",
   "execution_count": 246,
   "id": "ffbed965-27cd-4520-a32e-fef1a8fb6185",
   "metadata": {},
   "outputs": [
    {
     "data": {
      "text/plain": [
       "array([[0.37795916],\n",
       "       [1.53028682],\n",
       "       [1.91871188],\n",
       "       [2.69556199]])"
      ]
     },
     "execution_count": 246,
     "metadata": {},
     "output_type": "execute_result"
    }
   ],
   "source": [
    "Y_test = Y[20:24,:]\n",
    "Y_test"
   ]
  },
  {
   "cell_type": "code",
   "execution_count": 247,
   "id": "cc64002b-015b-4b2e-ab19-b9f1889ba248",
   "metadata": {},
   "outputs": [],
   "source": [
    "#trien khai mo hinh\n",
    "def calculate_y_hat(W,X,b):\n",
    "    n = W.shape[0]\n",
    "    m = X.shape[0]\n",
    "    Y_HAT = np.zeros(m)\n",
    "    for i in range(m):\n",
    "        Y_HAT[i] = np.dot(W, X[i])+b\n",
    "    return Y_HAT"
   ]
  },
  {
   "cell_type": "code",
   "execution_count": 274,
   "id": "c420e718-ea0e-4a6d-ab9f-7101b6b071c0",
   "metadata": {},
   "outputs": [],
   "source": [
    "def calculate_cost(y_hat,y):\n",
    "    m = y_hat.shape[0]\n",
    "    cost = 0\n",
    "    for i in range(m):\n",
    "        cost += (y_hat[i] - y[i]) ** 2\n",
    "\n",
    "    cost /= 2 * m\n",
    "    return cost"
   ]
  },
  {
   "cell_type": "code",
   "execution_count": 276,
   "id": "b845a6ba-cc19-4c1c-b7c4-d8fcdf7fe5e9",
   "metadata": {},
   "outputs": [],
   "source": [
    "def calculate_derivative(W,b,X,Y):\n",
    "    n = W.shape[0] #so feature\n",
    "    dW = np.zeros(n)\n",
    "    db = 0\n",
    "    m = X.shape[0] #so phan tu\n",
    "\n",
    "    for j in range(n):\n",
    "        for i in range(m):\n",
    "            dW[j] += (np.dot(W, X[i]) + b - Y[i]) * X[i][j]\n",
    "        dW[j] /= m\n",
    "\n",
    "    for i in range(m):\n",
    "        db += (np.dot(W, X[i]) + b - Y[i])\n",
    "    db /= m\n",
    "    return dW, db"
   ]
  },
  {
   "cell_type": "code",
   "execution_count": 366,
   "id": "b843e791-5e06-44d5-80c1-faf31f0a5eb9",
   "metadata": {},
   "outputs": [
    {
     "name": "stdout",
     "output_type": "stream",
     "text": [
      "[0.00067868 0.00815754 0.00889958 0.00471684]\n",
      "0.001499742112832363\n"
     ]
    }
   ],
   "source": [
    "W = np.random.rand(X.shape[1])*0.01\n",
    "print(W)\n",
    "b = np.random.rand()*0.01\n",
    "print(b)"
   ]
  },
  {
   "cell_type": "code",
   "execution_count": 401,
   "id": "daa93276-f3f5-4801-a740-26b81359f862",
   "metadata": {},
   "outputs": [
    {
     "name": "stdout",
     "output_type": "stream",
     "text": [
      "Cost: [0.03899863]\n",
      "Cost: [0.03899863]\n",
      "Cost: [0.03899863]\n",
      "Cost: [0.03899863]\n",
      "Cost: [0.03899863]\n",
      "Cost: [0.03899863]\n",
      "Cost: [0.03899863]\n",
      "Cost: [0.03899863]\n",
      "Cost: [0.03899863]\n",
      "Cost: [0.03899863]\n",
      "Cost: [0.03899863]\n",
      "Cost: [0.03899863]\n",
      "Cost: [0.03899863]\n",
      "Cost: [0.03899863]\n",
      "Cost: [0.03899863]\n",
      "Cost: [0.03899863]\n",
      "Cost: [0.03899863]\n",
      "Cost: [0.03899863]\n",
      "Cost: [0.03899863]\n",
      "Cost: [0.03899863]\n"
     ]
    },
    {
     "name": "stderr",
     "output_type": "stream",
     "text": [
      "C:\\Users\\Admin\\AppData\\Local\\Temp\\ipykernel_16208\\3222116444.py:9: DeprecationWarning: Conversion of an array with ndim > 0 to a scalar is deprecated, and will error in future. Ensure you extract a single element from your array before performing this operation. (Deprecated NumPy 1.25.)\n",
      "  dW[j] += (np.dot(W, X[i]) + b - Y[i]) * X[i][j]\n",
      "C:\\Users\\Admin\\AppData\\Local\\Temp\\ipykernel_16208\\1311969126.py:7: DeprecationWarning: Conversion of an array with ndim > 0 to a scalar is deprecated, and will error in future. Ensure you extract a single element from your array before performing this operation. (Deprecated NumPy 1.25.)\n",
      "  Y_HAT[i] = np.dot(W, X[i])+b\n"
     ]
    }
   ],
   "source": [
    "learning_rate = 0.01\n",
    "n_iters = 200\n",
    "\n",
    "for k in range(n_iters):\n",
    "    dW, db = calculate_derivative(W,b,X,Y)\n",
    "\n",
    "    W = W - learning_rate * dW\n",
    "    b = b - learning_rate * db\n",
    "    Y_HAT = calculate_y_hat(W, X, b)\n",
    "\n",
    "    # Tính cost\n",
    "    cost = calculate_cost(Y_HAT, Y)\n",
    "\n",
    "    # In ra cost sau mỗi 10 bước lặp\n",
    "    if (k + 1) % 10 == 0:\n",
    "        print(\"Cost:\", cost)"
   ]
  },
  {
   "cell_type": "code",
   "execution_count": 409,
   "id": "c22212a1-d672-403b-a5a5-6b6366b16f42",
   "metadata": {},
   "outputs": [
    {
     "name": "stderr",
     "output_type": "stream",
     "text": [
      "C:\\Users\\Admin\\AppData\\Local\\Temp\\ipykernel_16208\\1311969126.py:7: DeprecationWarning: Conversion of an array with ndim > 0 to a scalar is deprecated, and will error in future. Ensure you extract a single element from your array before performing this operation. (Deprecated NumPy 1.25.)\n",
      "  Y_HAT[i] = np.dot(W, X[i])+b\n"
     ]
    },
    {
     "data": {
      "text/plain": [
       "array([0.77742865, 1.49213003, 1.49044926, 2.03516093])"
      ]
     },
     "execution_count": 409,
     "metadata": {},
     "output_type": "execute_result"
    }
   ],
   "source": [
    "Y_HAT_Test = calculate_y_hat(W, X_test, b)\n",
    "Y_HAT_Test"
   ]
  },
  {
   "cell_type": "code",
   "execution_count": 308,
   "id": "d20f283c-2b3e-488b-a3e0-45c3c020129a",
   "metadata": {},
   "outputs": [
    {
     "data": {
      "text/plain": [
       "array([[0.37795916],\n",
       "       [1.53028682],\n",
       "       [1.91871188],\n",
       "       [2.69556199]])"
      ]
     },
     "execution_count": 308,
     "metadata": {},
     "output_type": "execute_result"
    }
   ],
   "source": [
    "Y_test"
   ]
  },
  {
   "cell_type": "code",
   "execution_count": 411,
   "id": "88823402-d07a-4809-ac5f-5ca2289feac5",
   "metadata": {},
   "outputs": [
    {
     "data": {
      "text/plain": [
       "array([2359.26508314, 2635.26480528, 2634.61573533, 2844.96970094])"
      ]
     },
     "execution_count": 411,
     "metadata": {},
     "output_type": "execute_result"
    }
   ],
   "source": [
    "Y_HAT_Test = Y_HAT_Test * sigma_Y + muy_Y\n",
    "Y_HAT_Test"
   ]
  },
  {
   "cell_type": "code",
   "execution_count": 272,
   "id": "5813da85-aa60-4827-8604-25097935f146",
   "metadata": {},
   "outputs": [
    {
     "data": {
      "text/plain": [
       "array([[2205., 2650., 2800., 3100.]])"
      ]
     },
     "execution_count": 272,
     "metadata": {},
     "output_type": "execute_result"
    }
   ],
   "source": [
    "Y_Test = Y_test * sigma_Y + muy_Y\n",
    "Y_Test.T"
   ]
  }
 ],
 "metadata": {
  "kernelspec": {
   "display_name": "Python 3 (ipykernel)",
   "language": "python",
   "name": "python3"
  },
  "language_info": {
   "codemirror_mode": {
    "name": "ipython",
    "version": 3
   },
   "file_extension": ".py",
   "mimetype": "text/x-python",
   "name": "python",
   "nbconvert_exporter": "python",
   "pygments_lexer": "ipython3",
   "version": "3.12.3"
  }
 },
 "nbformat": 4,
 "nbformat_minor": 5
}
